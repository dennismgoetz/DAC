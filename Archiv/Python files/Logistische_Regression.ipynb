{
 "cells": [
  {
   "attachments": {},
   "cell_type": "markdown",
   "metadata": {},
   "source": [
    "# Logistische Regression"
   ]
  },
  {
   "cell_type": "code",
   "execution_count": 1,
   "metadata": {},
   "outputs": [
    {
     "name": "stdout",
     "output_type": "stream",
     "text": [
      "C:\\Users\\Dennis\\OneDrive\\Dokumente\\03_Master BAOR\\05_Kurse\\01_Business Analytics\\04_Data Analytics Challenge\n"
     ]
    }
   ],
   "source": [
    "import pandas as pd\n",
    "import numpy as np\n",
    "import os\n",
    "from sklearn.preprocessing import StandardScaler\n",
    "from sklearn.model_selection import train_test_split\n",
    "from collections import Counter\n",
    "from imblearn.over_sampling import SMOTE\n",
    "import matplotlib.pyplot as plt\n",
    "\n",
    "os.getcwd()\n",
    "%cd \"C:\\Users\\Dennis\\OneDrive\\Dokumente\\03_Master BAOR\\05_Kurse\\01_Business Analytics\\04_Data Analytics Challenge\"\n",
    "\n",
    "ccdata = pd.read_csv('creditcard.csv')"
   ]
  },
  {
   "cell_type": "code",
   "execution_count": 5,
   "metadata": {},
   "outputs": [
    {
     "data": {
      "text/plain": [
       "0    284315\n",
       "1       492\n",
       "Name: Class, dtype: int64"
      ]
     },
     "metadata": {},
     "output_type": "display_data"
    },
    {
     "data": {
      "text/html": [
       "<div>\n",
       "<style scoped>\n",
       "    .dataframe tbody tr th:only-of-type {\n",
       "        vertical-align: middle;\n",
       "    }\n",
       "\n",
       "    .dataframe tbody tr th {\n",
       "        vertical-align: top;\n",
       "    }\n",
       "\n",
       "    .dataframe thead th {\n",
       "        text-align: right;\n",
       "    }\n",
       "</style>\n",
       "<table border=\"1\" class=\"dataframe\">\n",
       "  <thead>\n",
       "    <tr style=\"text-align: right;\">\n",
       "      <th></th>\n",
       "      <th>V1</th>\n",
       "      <th>V2</th>\n",
       "      <th>V3</th>\n",
       "      <th>V4</th>\n",
       "      <th>V5</th>\n",
       "      <th>V6</th>\n",
       "      <th>V7</th>\n",
       "      <th>V8</th>\n",
       "      <th>V9</th>\n",
       "      <th>V10</th>\n",
       "      <th>...</th>\n",
       "      <th>V21</th>\n",
       "      <th>V22</th>\n",
       "      <th>V23</th>\n",
       "      <th>V24</th>\n",
       "      <th>V25</th>\n",
       "      <th>V26</th>\n",
       "      <th>V27</th>\n",
       "      <th>V28</th>\n",
       "      <th>Amount</th>\n",
       "      <th>Class</th>\n",
       "    </tr>\n",
       "  </thead>\n",
       "  <tbody>\n",
       "    <tr>\n",
       "      <th>0</th>\n",
       "      <td>-1.359807</td>\n",
       "      <td>-0.072781</td>\n",
       "      <td>2.536347</td>\n",
       "      <td>1.378155</td>\n",
       "      <td>-0.338321</td>\n",
       "      <td>0.462388</td>\n",
       "      <td>0.239599</td>\n",
       "      <td>0.098698</td>\n",
       "      <td>0.363787</td>\n",
       "      <td>0.090794</td>\n",
       "      <td>...</td>\n",
       "      <td>-0.018307</td>\n",
       "      <td>0.277838</td>\n",
       "      <td>-0.110474</td>\n",
       "      <td>0.066928</td>\n",
       "      <td>0.128539</td>\n",
       "      <td>-0.189115</td>\n",
       "      <td>0.133558</td>\n",
       "      <td>-0.021053</td>\n",
       "      <td>0.244964</td>\n",
       "      <td>0</td>\n",
       "    </tr>\n",
       "    <tr>\n",
       "      <th>1</th>\n",
       "      <td>1.191857</td>\n",
       "      <td>0.266151</td>\n",
       "      <td>0.166480</td>\n",
       "      <td>0.448154</td>\n",
       "      <td>0.060018</td>\n",
       "      <td>-0.082361</td>\n",
       "      <td>-0.078803</td>\n",
       "      <td>0.085102</td>\n",
       "      <td>-0.255425</td>\n",
       "      <td>-0.166974</td>\n",
       "      <td>...</td>\n",
       "      <td>-0.225775</td>\n",
       "      <td>-0.638672</td>\n",
       "      <td>0.101288</td>\n",
       "      <td>-0.339846</td>\n",
       "      <td>0.167170</td>\n",
       "      <td>0.125895</td>\n",
       "      <td>-0.008983</td>\n",
       "      <td>0.014724</td>\n",
       "      <td>-0.342475</td>\n",
       "      <td>0</td>\n",
       "    </tr>\n",
       "    <tr>\n",
       "      <th>2</th>\n",
       "      <td>-1.358354</td>\n",
       "      <td>-1.340163</td>\n",
       "      <td>1.773209</td>\n",
       "      <td>0.379780</td>\n",
       "      <td>-0.503198</td>\n",
       "      <td>1.800499</td>\n",
       "      <td>0.791461</td>\n",
       "      <td>0.247676</td>\n",
       "      <td>-1.514654</td>\n",
       "      <td>0.207643</td>\n",
       "      <td>...</td>\n",
       "      <td>0.247998</td>\n",
       "      <td>0.771679</td>\n",
       "      <td>0.909412</td>\n",
       "      <td>-0.689281</td>\n",
       "      <td>-0.327642</td>\n",
       "      <td>-0.139097</td>\n",
       "      <td>-0.055353</td>\n",
       "      <td>-0.059752</td>\n",
       "      <td>1.160686</td>\n",
       "      <td>0</td>\n",
       "    </tr>\n",
       "  </tbody>\n",
       "</table>\n",
       "<p>3 rows × 30 columns</p>\n",
       "</div>"
      ],
      "text/plain": [
       "         V1        V2        V3        V4        V5        V6        V7  \\\n",
       "0 -1.359807 -0.072781  2.536347  1.378155 -0.338321  0.462388  0.239599   \n",
       "1  1.191857  0.266151  0.166480  0.448154  0.060018 -0.082361 -0.078803   \n",
       "2 -1.358354 -1.340163  1.773209  0.379780 -0.503198  1.800499  0.791461   \n",
       "\n",
       "         V8        V9       V10  ...       V21       V22       V23       V24  \\\n",
       "0  0.098698  0.363787  0.090794  ... -0.018307  0.277838 -0.110474  0.066928   \n",
       "1  0.085102 -0.255425 -0.166974  ... -0.225775 -0.638672  0.101288 -0.339846   \n",
       "2  0.247676 -1.514654  0.207643  ...  0.247998  0.771679  0.909412 -0.689281   \n",
       "\n",
       "        V25       V26       V27       V28    Amount  Class  \n",
       "0  0.128539 -0.189115  0.133558 -0.021053  0.244964      0  \n",
       "1  0.167170  0.125895 -0.008983  0.014724 -0.342475      0  \n",
       "2 -0.327642 -0.139097 -0.055353 -0.059752  1.160686      0  \n",
       "\n",
       "[3 rows x 30 columns]"
      ]
     },
     "execution_count": 5,
     "metadata": {},
     "output_type": "execute_result"
    }
   ],
   "source": [
    "# Small dataset\n",
    "#ccdata = ccdata.iloc[:100000, :]\n",
    "\n",
    "# Balance of dataset target values\n",
    "display(ccdata.Class.value_counts())\n",
    "\n",
    "# Drop feature 'Time'\n",
    "ccdata.drop('Time', axis=1, inplace=True)\n",
    "\n",
    "# Scaling feature 'Amount'\n",
    "standard_scaler = StandardScaler()\n",
    "ccdata['Amount'] = standard_scaler.fit_transform(ccdata[['Amount']])\n",
    "ccdata.head(3)"
   ]
  },
  {
   "cell_type": "code",
   "execution_count": 6,
   "metadata": {},
   "outputs": [
    {
     "name": "stdout",
     "output_type": "stream",
     "text": [
      "Counter({0: 270099, 1: 467})\n",
      "\n",
      "Ratio of target value 1 in ccdata: 0.17 %\n",
      "Ratio of target value 1 in train_set: 0.17 %\n",
      "Ratio of target value 1 in test_set: 0.18 %\n"
     ]
    }
   ],
   "source": [
    "X = ccdata.iloc[:, :-1].to_numpy()\n",
    "y = ccdata.iloc[:, -1].to_numpy()\n",
    "X_train, X_test, y_train, y_test = train_test_split(X, y, train_size=0.95, random_state=1, stratify=ccdata['Class'], shuffle=True)\n",
    "\n",
    "print('{}\\n'.format(Counter(y_train)))\n",
    "print('Ratio of target value 1 in ccdata: {:.2f} %'.format(100*np.sum(ccdata['Class'] == 1)/len(ccdata['Class'])))\n",
    "print('Ratio of target value 1 in train_set: {:.2f} %'.format(100*np.sum(y_train == 1)/len(y_train)))\n",
    "print('Ratio of target value 1 in test_set: {:.2f} %'.format(100*np.sum(y_test == 1)/len(y_test)))"
   ]
  },
  {
   "cell_type": "code",
   "execution_count": 7,
   "metadata": {},
   "outputs": [
    {
     "data": {
      "text/plain": [
       "Counter({0: 270099, 1: 270099})"
      ]
     },
     "execution_count": 7,
     "metadata": {},
     "output_type": "execute_result"
    }
   ],
   "source": [
    "# Smote the dataset until its balanced\n",
    "smote = SMOTE(sampling_strategy='auto', random_state=0, k_neighbors=5)\n",
    "X_res, y_res = smote.fit_resample(X_train, y_train)\n",
    "Counter(y_res)"
   ]
  },
  {
   "attachments": {},
   "cell_type": "markdown",
   "metadata": {},
   "source": [
    "### Auccuracy"
   ]
  },
  {
   "cell_type": "code",
   "execution_count": 8,
   "metadata": {},
   "outputs": [
    {
     "name": "stdout",
     "output_type": "stream",
     "text": [
      "Accuracy on train_set imbalanced dataset: 0.9992090654405948\n",
      "Accuracy on test_set imbalanced dataset: 0.9991573625447651\n",
      "\n",
      "Accuracy on train_set smoted dataset: 0.9464344555144595\n",
      "Accuracy on test_set smoted dataset: 0.974299557615336\n"
     ]
    }
   ],
   "source": [
    "from sklearn.linear_model import LogisticRegression\n",
    "\n",
    "# Train two Logistic Regression models without and with SMOTE\n",
    "# logreg = LogisticRegression(penalty=None)\n",
    "# logreg_sm = LogisticRegression(penalty=None)\n",
    "logreg = LogisticRegression(penalty='l2', C=1)\n",
    "logreg_sm = LogisticRegression(penalty='l2', C=1)\n",
    "\n",
    "logreg.fit(X_train, y_train)\n",
    "logreg_sm.fit(X_res, y_res)\n",
    "\n",
    "# Calculate the mean accuracy of both models on train and test set\n",
    "print('Accuracy on train_set imbalanced dataset: {}'.format(logreg.score(X_train, y_train)))\n",
    "print('Accuracy on test_set imbalanced dataset: {}\\n'.format(logreg.score(X_test, y_test)))\n",
    "\n",
    "print('Accuracy on train_set smoted dataset: {}'.format(logreg_sm.score(X_res, y_res)))\n",
    "print('Accuracy on test_set smoted dataset: {}'.format(logreg_sm.score(X_test, y_test)))"
   ]
  },
  {
   "attachments": {},
   "cell_type": "markdown",
   "metadata": {},
   "source": [
    "### Precision Recall Curve"
   ]
  },
  {
   "cell_type": "code",
   "execution_count": 9,
   "metadata": {},
   "outputs": [
    {
     "name": "stdout",
     "output_type": "stream",
     "text": [
      "first class: 0\n",
      "second class: 1\n"
     ]
    }
   ],
   "source": [
    "print('first class: {}'.format(logreg_sm.classes_[0]))\n",
    "print('second class: {}'.format(logreg_sm.classes_[1]))"
   ]
  },
  {
   "cell_type": "code",
   "execution_count": 10,
   "metadata": {},
   "outputs": [
    {
     "name": "stdout",
     "output_type": "stream",
     "text": [
      "Probability for class 1 of first instance is: 2.46 %\n"
     ]
    }
   ],
   "source": [
    "from sklearn.metrics import precision_recall_curve\n",
    "\n",
    "y_prob_pred = logreg_sm.predict_proba(X_res)[:, 1] #only probability of second class of logreg.classes_ is selected (class positive) \n",
    "print('Probability for class {} of first instance is: {:.2f} %'.format(logreg_sm.classes_[1], y_prob_pred[0]*100))\n",
    "\n",
    "precision, recall, thresholds = precision_recall_curve(y_res, y_prob_pred) #Recall (Anteil der tatsächlich positiven Instanzen, die das Modell korrekt als positiv identifiziert hat)\n",
    "                                                                             #sollte hoch sein, um jeden Krebs zu entdecken!\n",
    "                                                                             #Precision (Anteil der vom Modell positiv identifizierten Instanzen, die tatsächlich positiv sind)\n",
    "                                                                             #sollte dabei nicht zu niedrig werden!\n",
    "                                                                             #Threshold (Wahrscheinlichkeit ab welcher eine Instanz als positiv eingestuft wird default=0.5)\n",
    "                                                                             #sollte hier niedriger gesetzt werden, um den Recall zu erhöhen und jeden Krebsfall zu erkennen. Selbst bei niedriger Wslk!"
   ]
  },
  {
   "cell_type": "code",
   "execution_count": 11,
   "metadata": {},
   "outputs": [
    {
     "data": {
      "image/png": "[encoded data removed]",
      "text/plain": [
       "<Figure size 1080x576 with 1 Axes>"
      ]
     },
     "metadata": {
      "needs_background": "light"
     },
     "output_type": "display_data"
    },
    {
     "name": "stdout",
     "output_type": "stream",
     "text": [
      "\n",
      "\n"
     ]
    },
    {
     "data": {
      "image/png": "[encoded data removed]",
      "text/plain": [
       "<Figure size 1080x576 with 1 Axes>"
      ]
     },
     "metadata": {
      "needs_background": "light"
     },
     "output_type": "display_data"
    }
   ],
   "source": [
    "from matplotlib.ticker import MultipleLocator # just to make the plot more beautiful\n",
    "import matplotlib.pyplot as plt\n",
    "\n",
    "plt.figure(figsize=(15,8))\n",
    "plt.plot(precision, recall, '-o', label=\"logistic regression\") # IMPORTANT\n",
    "positive_fraction = np.sum(y_res == 1) / len(y_res)\n",
    "plt.plot([0,1], [positive_fraction, positive_fraction], '--', lw=3, label=\"'no skill' baseline\")\n",
    "plt.xlabel(\"precision\")\n",
    "plt.ylabel(\"recall\")\n",
    "plt.legend()\n",
    "plt.grid(which='both')\n",
    "ax = plt.gca()\n",
    "ax.xaxis.set_major_locator(MultipleLocator(0.1))\n",
    "ax.yaxis.set_major_locator(MultipleLocator(0.05))\n",
    "ax.tick_params(axis='both', which='both', labelsize=12)\n",
    "plt.title(\"precision-recall curve\")\n",
    "plt.xlim([0.5, 1.03])\n",
    "plt.show()\n",
    "\n",
    "print()\n",
    "print()\n",
    "\n",
    "# from the documentation:\n",
    "# The last precision and recall values are 1. and 0. respectively and do not have a corresponding threshold.\n",
    "# -> we need to drop the last precision and recall values in this plot\n",
    "plt.figure(figsize=(15,8))\n",
    "plt.plot(thresholds, precision[:-1], '-o', label=\"precision\")\n",
    "plt.plot(thresholds, recall[:-1], '-o', label=\"recall\")\n",
    "plt.xlabel(\"threshold\")\n",
    "plt.legend()\n",
    "plt.grid(which='both')\n",
    "plt.title(\"Plot for reading off thresholds for given operating point\", size=15)\n",
    "ax = plt.gca()\n",
    "ax.xaxis.set_major_locator(MultipleLocator(0.1))\n",
    "ax.yaxis.set_major_locator(MultipleLocator(0.05))\n",
    "ax.tick_params(axis='both', which='both', labelsize=12)\n",
    "plt.show()"
   ]
  },
  {
   "cell_type": "code",
   "execution_count": 12,
   "metadata": {},
   "outputs": [
    {
     "name": "stdout",
     "output_type": "stream",
     "text": [
      "default threshold (0.5)\n",
      "train precision: 0.9733271050782523\n",
      "train recall:    0.9180263533000863\n",
      "test  precision: 0.059431524547803614\n",
      "test  recall:    0.92 \n",
      "\n",
      "custom threshold (0.2)\n",
      "train precision: 0.9080378643195217\n",
      "train recall:    0.9716881587862228\n",
      "test  precision: 0.015961138098542677\n",
      "test  recall:    0.92\n"
     ]
    }
   ],
   "source": [
    "from sklearn.metrics import precision_score, recall_score\n",
    "\n",
    "print(\"default threshold (0.5)\")\n",
    "\n",
    "print(\"train precision:\", precision_score(y_res, logreg_sm.predict(X_res)))\n",
    "print(\"train recall:   \", recall_score(y_res, logreg_sm.predict(X_res)))\n",
    "print(\"test  precision:\", precision_score(y_test, logreg_sm.predict(X_test)))\n",
    "print(\"test  recall:   \", recall_score(y_test, logreg_sm.predict(X_test)), \"\\n\")\n",
    "\n",
    "threshold = 0.2\n",
    "\n",
    "print(f\"custom threshold ({threshold})\")\n",
    "print(\"train precision:\", precision_score(y_res, logreg_sm.predict_proba(X_res)[:,1] > threshold))\n",
    "print(\"train recall:   \", recall_score(y_res, logreg_sm.predict_proba(X_res)[:,1] > threshold))\n",
    "print(\"test  precision:\", precision_score(y_test, logreg_sm.predict_proba(X_test)[:, 1] > threshold))\n",
    "print(\"test  recall:   \", recall_score(y_test, logreg_sm.predict_proba(X_test)[:,1] > threshold))\n"
   ]
  },
  {
   "attachments": {},
   "cell_type": "markdown",
   "metadata": {},
   "source": [
    "### Area under the Curve: AUC"
   ]
  },
  {
   "cell_type": "code",
   "execution_count": 13,
   "metadata": {},
   "outputs": [
    {
     "name": "stdout",
     "output_type": "stream",
     "text": [
      "train AUC: 0.8114928245875236\n",
      "test AUC:  0.8198944850872257 \n",
      "\n",
      "train AUC: 0.9464344555144596\n",
      "test AUC:  0.9471975239167135\n"
     ]
    }
   ],
   "source": [
    "from sklearn import metrics\n",
    "from sklearn.metrics import roc_auc_score\n",
    "\n",
    "# Without SMOTE\n",
    "print(\"train AUC:\", roc_auc_score(y_train, logreg.predict(X_train)))\n",
    "print(\"test AUC: \", roc_auc_score(y_test, logreg.predict(X_test)), \"\\n\")\n",
    "\n",
    "# With SMOTE\n",
    "print(\"train AUC:\", roc_auc_score(y_res, logreg_sm.predict(X_res)))\n",
    "print(\"test AUC: \", roc_auc_score(y_test, logreg_sm.predict(X_test)))"
   ]
  },
  {
   "cell_type": "code",
   "execution_count": 14,
   "metadata": {},
   "outputs": [
    {
     "data": {
      "image/png": "[encoded data removed]",
      "text/plain": [
       "<Figure size 1080x360 with 1 Axes>"
      ]
     },
     "metadata": {
      "needs_background": "light"
     },
     "output_type": "display_data"
    }
   ],
   "source": [
    "preds_sm = logreg_sm.predict_proba(X_test)[:,1] #Proba for positives\n",
    "fpr, tpr, threshold = metrics.roc_curve(y_test, preds_sm, pos_label=1)\n",
    "roc_auc = metrics.auc(fpr, tpr) #specificity, sensitivity/recall\n",
    "\n",
    "plt.figure(figsize=(15,5))\n",
    "plt.plot(fpr, tpr, 'b', label='AUC = %.2f' %roc_auc)\n",
    "plt.title('Receiver Operating Characteristic - ROC', size=20)\n",
    "plt.plot([0, 1], [0, 1], 'r--')\n",
    "plt.xlim([-0.005, 1])\n",
    "plt.ylim([0, 1.05])\n",
    "plt.xlabel('False Positive Rate', size=12)\n",
    "plt.ylabel('True Positive Rate', size=12)\n",
    "plt.legend(loc='lower right')\n",
    "plt.show()"
   ]
  },
  {
   "attachments": {},
   "cell_type": "markdown",
   "metadata": {},
   "source": [
    "### Confusion Matrix"
   ]
  },
  {
   "cell_type": "code",
   "execution_count": 17,
   "metadata": {},
   "outputs": [
    {
     "data": {
      "image/png": "[encoded data removed]",
      "text/plain": [
       "<Figure size 432x288 with 2 Axes>"
      ]
     },
     "metadata": {
      "needs_background": "light"
     },
     "output_type": "display_data"
    }
   ],
   "source": [
    "from sklearn.metrics import confusion_matrix\n",
    "from sklearn.metrics import ConfusionMatrixDisplay\n",
    "\n",
    "font = {'size' : 12}\n",
    "plt.rc('font', **font)\n",
    "\n",
    "y_pred = logreg_sm.predict(X_res)\n",
    "\n",
    "cm = confusion_matrix(y_res, y_pred)\n",
    "\n",
    "disp = ConfusionMatrixDisplay(confusion_matrix=cm,\n",
    "                              display_labels=list(range(2)))\n",
    "disp.plot()\n",
    "\n",
    "plt.show()"
   ]
  }
 ],
 "metadata": {
  "kernelspec": {
   "display_name": "base",
   "language": "python",
   "name": "python3"
  },
  "language_info": {
   "codemirror_mode": {
    "name": "ipython",
    "version": 3
   },
   "file_extension": ".py",
   "mimetype": "text/x-python",
   "name": "python",
   "nbconvert_exporter": "python",
   "pygments_lexer": "ipython3",
   "version": "3.9.7"
  },
  "orig_nbformat": 4
 },
 "nbformat": 4,
 "nbformat_minor": 2
}
